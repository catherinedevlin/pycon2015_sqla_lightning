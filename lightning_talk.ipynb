{
 "cells": [
  {
   "cell_type": "code",
   "execution_count": 1,
   "metadata": {
    "collapsed": false,
    "slideshow": {
     "slide_type": "notes"
    }
   },
   "outputs": [
    {
     "name": "stdout",
     "output_type": "stream",
     "text": [
      "Populating the interactive namespace from numpy and matplotlib\n"
     ]
    }
   ],
   "source": [
    "%pylab inline"
   ]
  },
  {
   "cell_type": "markdown",
   "metadata": {
    "slideshow": {
     "slide_type": "slide"
    }
   },
   "source": [
    "Catherine Devlin\n",
    "\n",
    "# RDBMS were so last year..."
   ]
  },
  {
   "cell_type": "markdown",
   "metadata": {
    "slideshow": {
     "slide_type": "fragment"
    }
   },
   "source": [
    "# last year"
   ]
  },
  {
   "cell_type": "markdown",
   "metadata": {
    "slideshow": {
     "slide_type": "slide"
    }
   },
   "source": [
    "# SQLAlchemy"
   ]
  },
  {
   "cell_type": "markdown",
   "metadata": {
    "slideshow": {
     "slide_type": "fragment"
    }
   },
   "source": [
    "# ~~object-relational mapper~~\n",
    "\n",
    "# RDBMS toolbox"
   ]
  },
  {
   "cell_type": "markdown",
   "metadata": {
    "slideshow": {
     "slide_type": "slide"
    }
   },
   "source": [
    "# ddlgenerator\n",
    "\n",
    "## Import data *and* define tables"
   ]
  },
  {
   "cell_type": "code",
   "execution_count": 2,
   "metadata": {
    "collapsed": false,
    "slideshow": {
     "slide_type": "fragment"
    }
   },
   "outputs": [
    {
     "name": "stdout",
     "output_type": "stream",
     "text": [
      "- bird: Common Loon\r\n",
      "  cities:\r\n",
      "  - {name: Toronto (Mississauga), population: 5583064}\r\n",
      "  - {name: Hamilton (Burlington), population: 721053}\r\n",
      "  - {name: Kitchener - Cambridge - Waterloo, population: 477160}\r\n",
      "  - {name: London, population: 474786}\r\n",
      "  - {name: 'St. Catharines - Niagara (Niagara Falls, Welland)', population: 392184}\r\n",
      "  - {name: 'Oshawa (Whitby, Clarington)', population: 356177}\r\n",
      "  - {name: Windsor (Lakeshore), population: 319246}\r\n",
      "  - {name: Barrie (Innisfil), population: 187013}\r\n"
     ]
    }
   ],
   "source": [
    "!head data/provinces.yaml"
   ]
  },
  {
   "cell_type": "code",
   "execution_count": 4,
   "metadata": {
    "collapsed": false,
    "scrolled": true,
    "slideshow": {
     "slide_type": "slide"
    }
   },
   "outputs": [
    {
     "name": "stdout",
     "output_type": "stream",
     "text": [
      "WARNING:root:Primary key provinces.provinces_id not requested, but nesting demands it\n",
      "CREATE TABLE provinces (\n",
      "\tbird TEXT NOT NULL, \n",
      "\tname TEXT NOT NULL, \n",
      "\tprovinces_id SERIAL NOT NULL, \n",
      "\tPRIMARY KEY (provinces_id)\n",
      ");\n",
      "\n",
      "\n",
      "CREATE TABLE cities (\n",
      "\tname TEXT NOT NULL, \n",
      "\tpopulation INTEGER NOT NULL, \n",
      "\tprovinces_id INTEGER NOT NULL, \n",
      "\tFOREIGN KEY(provinces_id) REFERENCES provinces (provinces_id)\n",
      ");\n",
      "\n",
      "INSERT INTO provinces (bird, name, provinces_id) VALUES ('Common Loon', 'Ontario', 1);\n",
      "INSERT INTO provinces (bird, name, provinces_id) VALUES ('Cheeky Warbler', 'New Brunswick', 2);\n",
      "INSERT INTO provinces (bird, name, provinces_id) VALUES ('Brawny Sparrow', 'Alberta', 3);\n",
      "INSERT INTO provinces (bird, name, provinces_id) VALUES ('Self-Conscious Heron', 'Nova Scotia', 4);\n",
      "INSERT INTO provinces (bird, name, provinces_id) VALUES ('Boreal Ostrich', 'Quebec', 5);\n",
      "Exception ignored in: <_io.TextIOWrapper name='<stdout>' mode='w' encoding='UTF-8'>\n",
      "BrokenPipeError: [Errno 32] Broken pipe\n"
     ]
    }
   ],
   "source": [
    "!ddlgenerator -i -t postgresql data/provinces.yaml | head -20\n",
    "# !ddlgenerator -i -t postgresql http://github.com/catherinedevlin/pycon2015_sqla_lightning/data/provinces.yaml"
   ]
  },
  {
   "cell_type": "code",
   "execution_count": 5,
   "metadata": {
    "collapsed": false,
    "slideshow": {
     "slide_type": "slide"
    }
   },
   "outputs": [
    {
     "name": "stdout",
     "output_type": "stream",
     "text": [
      "WARNING:root:Primary key provinces.provinces_id not requested, but nesting demands it\n",
      "CREATE TABLE\n",
      "CREATE TABLE\n",
      "INSERT 0 1\n",
      "INSERT 0 1\n",
      "INSERT 0 1\n",
      "INSERT 0 1\n",
      "INSERT 0 1\n",
      "INSERT 0 1\n",
      "INSERT 0 1\n",
      "INSERT 0 1\n",
      "INSERT 0 1\n",
      "INSERT 0 1\n",
      "INSERT 0 1\n",
      "INSERT 0 1\n",
      "INSERT 0 1\n",
      "INSERT 0 1\n",
      "INSERT 0 1\n",
      "INSERT 0 1\n",
      "INSERT 0 1\n",
      "INSERT 0 1\n"
     ]
    }
   ],
   "source": [
    "!dropdb pycon\n",
    "!createdb pycon\n",
    "!ddlgenerator -i postgresql data/provinces.yaml | psql pycon | head -20"
   ]
  },
  {
   "cell_type": "markdown",
   "metadata": {
    "slideshow": {
     "slide_type": "slide"
    }
   },
   "source": [
    "# ipython_sql\n",
    "\n",
    "## Access the data"
   ]
  },
  {
   "cell_type": "code",
   "execution_count": 6,
   "metadata": {
    "collapsed": false,
    "slideshow": {
     "slide_type": "slide"
    }
   },
   "outputs": [],
   "source": [
    "%load_ext sql"
   ]
  },
  {
   "cell_type": "code",
   "execution_count": 8,
   "metadata": {
    "collapsed": false,
    "slideshow": {
     "slide_type": "fragment"
    }
   },
   "outputs": [
    {
     "data": {
      "text/plain": [
       "'Connected: @pycon'"
      ]
     },
     "execution_count": 8,
     "metadata": {},
     "output_type": "execute_result"
    }
   ],
   "source": [
    "%sql postgresql://:@/pycon"
   ]
  },
  {
   "cell_type": "code",
   "execution_count": 9,
   "metadata": {
    "collapsed": false
   },
   "outputs": [
    {
     "name": "stdout",
     "output_type": "stream",
     "text": [
      "12 rows affected.\n"
     ]
    },
    {
     "data": {
      "text/html": [
       "<table>\n",
       "    <tr>\n",
       "        <th>name</th>\n",
       "        <th>bird</th>\n",
       "    </tr>\n",
       "    <tr>\n",
       "        <td>Alberta</td>\n",
       "        <td>Brawny Sparrow</td>\n",
       "    </tr>\n",
       "    <tr>\n",
       "        <td>British Columbia</td>\n",
       "        <td>Blue-throated Hipster</td>\n",
       "    </tr>\n",
       "    <tr>\n",
       "        <td>Manitoba</td>\n",
       "        <td>Hesitant Grebe</td>\n",
       "    </tr>\n",
       "    <tr>\n",
       "        <td>New Brunswick</td>\n",
       "        <td>Cheeky Warbler</td>\n",
       "    </tr>\n",
       "    <tr>\n",
       "        <td>Northwest Territories</td>\n",
       "        <td>Careless Lark</td>\n",
       "    </tr>\n",
       "    <tr>\n",
       "        <td>Nova Scotia</td>\n",
       "        <td>Self-Conscious Heron</td>\n",
       "    </tr>\n",
       "    <tr>\n",
       "        <td>Ontario</td>\n",
       "        <td>Common Loon</td>\n",
       "    </tr>\n",
       "    <tr>\n",
       "        <td>Ontario/Quebec</td>\n",
       "        <td>Evasive Stork</td>\n",
       "    </tr>\n",
       "    <tr>\n",
       "        <td>Prince Edward Island</td>\n",
       "        <td>Great Mallard</td>\n",
       "    </tr>\n",
       "    <tr>\n",
       "        <td>Quebec</td>\n",
       "        <td>Boreal Ostrich</td>\n",
       "    </tr>\n",
       "    <tr>\n",
       "        <td>Saskatchewan</td>\n",
       "        <td>Lesser Outcry</td>\n",
       "    </tr>\n",
       "    <tr>\n",
       "        <td>Yukon</td>\n",
       "        <td>Arctic Gnatkeeper</td>\n",
       "    </tr>\n",
       "</table>"
      ],
      "text/plain": [
       "[('Alberta', 'Brawny Sparrow'),\n",
       " ('British Columbia', 'Blue-throated Hipster'),\n",
       " ('Manitoba', 'Hesitant Grebe'),\n",
       " ('New Brunswick', 'Cheeky Warbler'),\n",
       " ('Northwest Territories', 'Careless Lark'),\n",
       " ('Nova Scotia', 'Self-Conscious Heron'),\n",
       " ('Ontario', 'Common Loon'),\n",
       " ('Ontario/Quebec', 'Evasive Stork'),\n",
       " ('Prince Edward Island', 'Great Mallard'),\n",
       " ('Quebec', 'Boreal Ostrich'),\n",
       " ('Saskatchewan', 'Lesser Outcry'),\n",
       " ('Yukon', 'Arctic Gnatkeeper')]"
      ]
     },
     "execution_count": 9,
     "metadata": {},
     "output_type": "execute_result"
    }
   ],
   "source": [
    "%sql SELECT name, bird FROM provinces ORDER BY name"
   ]
  },
  {
   "cell_type": "code",
   "execution_count": 10,
   "metadata": {
    "collapsed": false,
    "slideshow": {
     "slide_type": "fragment"
    }
   },
   "outputs": [
    {
     "name": "stdout",
     "output_type": "stream",
     "text": [
      "10 rows affected.\n"
     ]
    },
    {
     "data": {
      "text/html": [
       "<table>\n",
       "    <tr>\n",
       "        <th>name</th>\n",
       "        <th>population</th>\n",
       "    </tr>\n",
       "    <tr>\n",
       "        <td>Toronto (Mississauga), Ontario</td>\n",
       "        <td>5583064</td>\n",
       "    </tr>\n",
       "    <tr>\n",
       "        <td>Montreal (Laval), Quebec</td>\n",
       "        <td>3824221</td>\n",
       "    </tr>\n",
       "    <tr>\n",
       "        <td>Vancouver (Surrey), British Columbia</td>\n",
       "        <td>2313328</td>\n",
       "    </tr>\n",
       "    <tr>\n",
       "        <td>Ottawa - Gatineau, Ontario/Quebec</td>\n",
       "        <td>1236324</td>\n",
       "    </tr>\n",
       "    <tr>\n",
       "        <td>Calgary, Alberta</td>\n",
       "        <td>1214839</td>\n",
       "    </tr>\n",
       "    <tr>\n",
       "        <td>Edmonton, Alberta</td>\n",
       "        <td>1159869</td>\n",
       "    </tr>\n",
       "    <tr>\n",
       "        <td>Quebec (Lévis), Quebec</td>\n",
       "        <td>765706</td>\n",
       "    </tr>\n",
       "    <tr>\n",
       "        <td>Winnipeg, Manitoba</td>\n",
       "        <td>730018</td>\n",
       "    </tr>\n",
       "    <tr>\n",
       "        <td>Hamilton (Burlington), Ontario</td>\n",
       "        <td>721053</td>\n",
       "    </tr>\n",
       "    <tr>\n",
       "        <td>Kitchener - Cambridge - Waterloo, Ontario</td>\n",
       "        <td>477160</td>\n",
       "    </tr>\n",
       "</table>"
      ],
      "text/plain": [
       "[('Toronto (Mississauga), Ontario', 5583064),\n",
       " ('Montreal (Laval), Quebec', 3824221),\n",
       " ('Vancouver (Surrey), British Columbia', 2313328),\n",
       " ('Ottawa - Gatineau, Ontario/Quebec', 1236324),\n",
       " ('Calgary, Alberta', 1214839),\n",
       " ('Edmonton, Alberta', 1159869),\n",
       " ('Quebec (Lévis), Quebec', 765706),\n",
       " ('Winnipeg, Manitoba', 730018),\n",
       " ('Hamilton (Burlington), Ontario', 721053),\n",
       " ('Kitchener - Cambridge - Waterloo, Ontario', 477160)]"
      ]
     },
     "execution_count": 10,
     "metadata": {},
     "output_type": "execute_result"
    }
   ],
   "source": [
    "%%sql \n",
    "SELECT c.name || ', ' || p.name AS name,    \n",
    "       c.population                         \n",
    "FROM   cities c                             \n",
    "JOIN   provinces p                          \n",
    "ON    (c.provinces_id = p.provinces_id)     \n",
    "ORDER BY c.population DESC                  \n",
    "LIMIT 10"
   ]
  },
  {
   "cell_type": "code",
   "execution_count": 11,
   "metadata": {
    "collapsed": false,
    "slideshow": {
     "slide_type": "slide"
    }
   },
   "outputs": [
    {
     "data": {
      "text/plain": [
       "<matplotlib.axes._subplots.AxesSubplot at 0x7f7d31a5ed30>"
      ]
     },
     "execution_count": 11,
     "metadata": {},
     "output_type": "execute_result"
    },
    {
     "data": {
      "image/png": "[encoded data removed]",
      "text/plain": [
       "<matplotlib.figure.Figure at 0x7f7d31a5e7f0>"
      ]
     },
     "metadata": {},
     "output_type": "display_data"
    }
   ],
   "source": [
    "cities = _\n",
    "cities.DataFrame().plot(kind='bar', x='name')"
   ]
  },
  {
   "cell_type": "markdown",
   "metadata": {
    "slideshow": {
     "slide_type": "slide"
    }
   },
   "source": [
    "# rdbms-subsetter\n",
    "\n",
    "## Get a consistent test database."
   ]
  },
  {
   "cell_type": "code",
   "execution_count": 12,
   "metadata": {
    "collapsed": false,
    "slideshow": {
     "slide_type": "slide"
    }
   },
   "outputs": [
    {
     "name": "stdout",
     "output_type": "stream",
     "text": [
      "SET\n",
      "SET\n",
      "SET\n",
      "SET\n",
      "SET\n",
      "SET\n",
      "CREATE EXTENSION\n",
      "COMMENT\n",
      "SET\n",
      "SET\n",
      "SET\n",
      "CREATE TABLE\n",
      "ALTER TABLE\n",
      "CREATE TABLE\n",
      "ALTER TABLE\n",
      "CREATE SEQUENCE\n",
      "ALTER TABLE\n",
      "ALTER SEQUENCE\n",
      "ALTER TABLE\n",
      "ALTER TABLE\n",
      "ALTER TABLE\n",
      "REVOKE\n",
      "REVOKE\n",
      "GRANT\n",
      "GRANT\n"
     ]
    }
   ],
   "source": [
    "!dropdb pycon_test\n",
    "!createdb pycon_test\n",
    "!pg_dump --schema-only pycon | psql pycon_test"
   ]
  },
  {
   "cell_type": "code",
   "execution_count": 13,
   "metadata": {
    "collapsed": false,
    "slideshow": {
     "slide_type": "slide"
    }
   },
   "outputs": [
    {
     "name": "stdout",
     "output_type": "stream",
     "text": [
      "Create 1 rows from 12 in .provinces\n",
      "Create 14 rows from 142 in .cities\n",
      "INFO:root:lowest completeness score (in provinces) at 0.000000\n",
      "INFO:root:lowest completeness score (in cities) at -3.000000\n",
      "INFO:root:lowest completeness score (in cities) at -1.581421\n",
      "INFO:root:lowest completeness score (in cities) at 0.026160\n",
      "INFO:root:lowest completeness score (in cities) at 0.601489\n",
      "INFO:root:lowest completeness score (in cities) at -0.088610\n",
      "INFO:root:lowest completeness score (in cities) at 0.311931\n",
      "INFO:root:lowest completeness score (in cities) at 0.589413\n",
      "INFO:root:lowest completeness score (in cities) at 0.795536\n",
      "INFO:root:lowest completeness score (in cities) at 0.831376\n",
      "INFO:root:lowest completeness score (in cities) at 0.864326\n",
      "INFO:root:lowest completeness score (in cities) at 0.864326\n",
      "INFO:root:lowest completeness score (in cities) at 0.894907\n",
      "INFO:root:lowest completeness score (in cities) at 0.923501\n",
      "INFO:root:lowest completeness score (in cities) at 0.700402\n",
      "INFO:root:lowest completeness score (in cities) at 0.821995\n",
      "INFO:root:lowest completeness score (in cities) at 0.928571\n",
      "INFO:root:lowest completeness score (in cities) at 1.023029\n"
     ]
    }
   ],
   "source": [
    "!rdbms-subsetter -y postgresql://:@/pycon postgresql://:@/pycon_test 0.1"
   ]
  },
  {
   "cell_type": "code",
   "execution_count": 15,
   "metadata": {
    "collapsed": false,
    "slideshow": {
     "slide_type": "fragment"
    }
   },
   "outputs": [
    {
     "name": "stdout",
     "output_type": "stream",
     "text": [
      "15 rows affected.\n"
     ]
    },
    {
     "data": {
      "text/html": [
       "<table>\n",
       "    <tr>\n",
       "        <th>name</th>\n",
       "        <th>population</th>\n",
       "    </tr>\n",
       "    <tr>\n",
       "        <td>Toronto (Mississauga), Ontario</td>\n",
       "        <td>5583064</td>\n",
       "    </tr>\n",
       "    <tr>\n",
       "        <td>Calgary, Alberta</td>\n",
       "        <td>1214839</td>\n",
       "    </tr>\n",
       "    <tr>\n",
       "        <td>Edmonton, Alberta</td>\n",
       "        <td>1159869</td>\n",
       "    </tr>\n",
       "    <tr>\n",
       "        <td>Hamilton (Burlington), Ontario</td>\n",
       "        <td>721053</td>\n",
       "    </tr>\n",
       "    <tr>\n",
       "        <td>Kitchener - Cambridge - Waterloo, Ontario</td>\n",
       "        <td>477160</td>\n",
       "    </tr>\n",
       "    <tr>\n",
       "        <td>Moncton (Dieppe, Riverview), New Brunswick</td>\n",
       "        <td>138644</td>\n",
       "    </tr>\n",
       "    <tr>\n",
       "        <td>Saint John (Quispamsis), New Brunswick</td>\n",
       "        <td>127761</td>\n",
       "    </tr>\n",
       "    <tr>\n",
       "        <td>Lethbridge, Alberta</td>\n",
       "        <td>105999</td>\n",
       "    </tr>\n",
       "    <tr>\n",
       "        <td>Fredericton, New Brunswick</td>\n",
       "        <td>94268</td>\n",
       "    </tr>\n",
       "    <tr>\n",
       "        <td>Belleville (Quinte West), Ontario</td>\n",
       "        <td>92540</td>\n",
       "    </tr>\n",
       "    <tr>\n",
       "        <td>Sarnia (St. Clair), Ontario</td>\n",
       "        <td>89555</td>\n",
       "    </tr>\n",
       "    <tr>\n",
       "        <td>Orillia (Ramara), Ontario</td>\n",
       "        <td>40731</td>\n",
       "    </tr>\n",
       "    <tr>\n",
       "        <td>Bathurst (Bathurst Parish, Beresford Parish, Beresford), New Brunswick</td>\n",
       "        <td>33484</td>\n",
       "    </tr>\n",
       "    <tr>\n",
       "        <td>Camrose, Alberta</td>\n",
       "        <td>17286</td>\n",
       "    </tr>\n",
       "    <tr>\n",
       "        <td>Ingersoll, Ontario</td>\n",
       "        <td>12146</td>\n",
       "    </tr>\n",
       "</table>"
      ],
      "text/plain": [
       "[('Toronto (Mississauga), Ontario', 5583064),\n",
       " ('Calgary, Alberta', 1214839),\n",
       " ('Edmonton, Alberta', 1159869),\n",
       " ('Hamilton (Burlington), Ontario', 721053),\n",
       " ('Kitchener - Cambridge - Waterloo, Ontario', 477160),\n",
       " ('Moncton (Dieppe, Riverview), New Brunswick', 138644),\n",
       " ('Saint John (Quispamsis), New Brunswick', 127761),\n",
       " ('Lethbridge, Alberta', 105999),\n",
       " ('Fredericton, New Brunswick', 94268),\n",
       " ('Belleville (Quinte West), Ontario', 92540),\n",
       " ('Sarnia (St. Clair), Ontario', 89555),\n",
       " ('Orillia (Ramara), Ontario', 40731),\n",
       " ('Bathurst (Bathurst Parish, Beresford Parish, Beresford), New Brunswick', 33484),\n",
       " ('Camrose, Alberta', 17286),\n",
       " ('Ingersoll, Ontario', 12146)]"
      ]
     },
     "execution_count": 15,
     "metadata": {},
     "output_type": "execute_result"
    }
   ],
   "source": [
    "%%sql postgresql://:@/pycon_test\n",
    "SELECT c.name || ', ' || p.name AS name,    \n",
    "       c.population                         \n",
    "FROM   cities c                             \n",
    "JOIN   provinces p                          \n",
    "ON    (c.provinces_id = p.provinces_id)     \n",
    "ORDER BY c.population DESC   "
   ]
  },
  {
   "cell_type": "markdown",
   "metadata": {
    "slideshow": {
     "slide_type": "slide"
    }
   },
   "source": [
    "# Still needed\n",
    "\n",
    "* normalization/denormalization toolkit\n",
    "* Jupyter Notebooks for tuning & monitoring\n",
    "* inter-RDBMS translator\n",
    "\n",
    "Catherine Devlin\n",
    "\n",
    "http://tinyurl.com/pycon2015-sqla-tools"
   ]
  }
 ],
 "metadata": {
  "celltoolbar": "Slideshow",
  "kernelspec": {
   "display_name": "Python 3",
   "language": "python",
   "name": "python3"
  },
  "language_info": {
   "codemirror_mode": {
    "name": "ipython",
    "version": 3
   },
   "file_extension": ".py",
   "mimetype": "text/x-python",
   "name": "python",
   "nbconvert_exporter": "python",
   "pygments_lexer": "ipython3",
   "version": "3.4.2"
  }
 },
 "nbformat": 4,
 "nbformat_minor": 0
}
